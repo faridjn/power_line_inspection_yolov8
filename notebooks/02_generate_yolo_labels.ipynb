{
 "cells": [
  {
   "cell_type": "markdown",
   "id": "9c8c002e",
   "metadata": {},
   "source": [
    "# Pre-processing YOLO labels\n",
    "<sub>Author: [faridjn</sub>](https://github.com/faridjn)"
   ]
  },
  {
   "cell_type": "markdown",
   "id": "14dbc046",
   "metadata": {},
   "source": [
    "## Libraries"
   ]
  },
  {
   "cell_type": "code",
   "execution_count": 1,
   "id": "088de649",
   "metadata": {},
   "outputs": [],
   "source": [
    "#!pip install shapely"
   ]
  },
  {
   "cell_type": "markdown",
   "id": "a7af96c2",
   "metadata": {},
   "source": [
    "### Import necessary libraries"
   ]
  },
  {
   "cell_type": "code",
   "execution_count": 2,
   "id": "5e1ab341",
   "metadata": {},
   "outputs": [],
   "source": [
    "#fundamental\n",
    "import pandas as pd\n",
    "import json\n",
    "\n",
    "#OS and sys\n",
    "import os\n",
    "\n",
    "#labels geometry\n",
    "from shapely.geometry import box\n",
    "from PIL import Image\n",
    "from shapely.geometry import Polygon"
   ]
  },
  {
   "cell_type": "markdown",
   "id": "2092e8cb",
   "metadata": {},
   "source": [
    "## Utility Functions"
   ]
  },
  {
   "cell_type": "code",
   "execution_count": 3,
   "id": "ae4dd13a",
   "metadata": {},
   "outputs": [],
   "source": [
    "def get_files_with_extension(folder, extension):    \n",
    "    '''a function that takes a folder path and a file extension as inputs, \n",
    "    and returns a list of all files in the folder with the specified extension,\n",
    "    case-insensitive. It can be used for quickly obtaining a list of files\n",
    "    with a specific file type from a directory'''\n",
    "    # specify the desired file extension\n",
    "    extension = extension.lower()\n",
    "    # get a list of all files in the folder\n",
    "    files = os.listdir(folder)\n",
    "    # filter out only the files with the desired extension\n",
    "    files_with_extention = [f for f in files if f.lower().endswith(extension)]\n",
    "    # print the list of desired files\n",
    "    return files_with_extention\n",
    "\n",
    "def get_image_read_path_and_size(image_file):\n",
    "    imgpil = Image.open(image_file)\n",
    "    wd, ht = imgpil.size\n",
    "    return wd, ht\n",
    "\n",
    "\n",
    "def resize_image(image_file, OUT_IMGSZ):\n",
    "    imgpil = Image.open(image_file)\n",
    "    wd, ht = imgpil.size\n",
    "    scale_factor = OUT_IMGSZ / max(wd, ht)\n",
    "    img_resized = imgpil.resize((int(wd * scale_factor), int(ht * scale_factor)), Image.LANCZOS)\n",
    "    return img_resized, scale_factor\n",
    "\n",
    "\n",
    "def save_resized_image(img_resized, image_write_path, img):\n",
    "    img_resized.save(image_write_path + '/' + img)\n",
    "\n",
    "\n",
    "def get_image_object(annotations, img):\n",
    "    filt = annotations.index.str.lower() == img.lower()\n",
    "    if filt.sum() == 1:\n",
    "        return annotations.loc[filt]\n",
    "    return None\n",
    "\n",
    "\n",
    "def process_label_data(img_obj):\n",
    "    lbl = img_obj['label'].iloc[0]\n",
    "    lbl = lbl.replace(\"\\'\", \"\\\"\")\n",
    "    return json.loads(lbl)\n",
    "\n",
    "\n",
    "def create_label_file(label_write_path, label_file_name):\n",
    "    return open(label_write_path + label_file_name, 'w')\n",
    "\n",
    "\n",
    "# polygon = Polygon([(0, 0), (1, 1), (1, 0)])\n",
    "def polygon_to_bbox(polygon_cords):\n",
    "    '''Args: List of Polygon_cords '''\n",
    "    polygon = Polygon(polygon_cords)\n",
    "    return polygon.bounds\n",
    "\n",
    "\n",
    "def process_objects(lbl, wd, ht, f1, scale_factor):\n",
    "    for obj in lbl['objects']:\n",
    "        polygon_coords_list = []\n",
    "\n",
    "        polygon_coords = obj.get('polygon')\n",
    "        if polygon_coords is not None:\n",
    "            for pnt in polygon_coords:\n",
    "                polygon_coords_list.append(tuple(pnt.values()))\n",
    "\n",
    "            polygon_coords_list = [(int(x * scale_factor), int(y * scale_factor)) for x, y in polygon_coords_list]\n",
    "\n",
    "            bbox = polygon_to_bbox(polygon_coords_list)\n",
    "            minx, miny, maxx, maxy = bbox\n",
    "\n",
    "            bbox_s = box(minx, miny, maxx, maxy)\n",
    "\n",
    "            object_annos_line = str(CLASS_DICT[obj['value']]) + ' ' \\\n",
    "                                + str(bbox_s.centroid.x / (wd * scale_factor)) + ' ' \\\n",
    "                                + str(bbox_s.centroid.y / (ht * scale_factor)) + ' ' \\\n",
    "                                + str((maxx - minx) / (wd * scale_factor)) + ' ' \\\n",
    "                                + str((maxy - miny) / (ht * scale_factor)) + '\\n'\n",
    "\n",
    "            f1.write(object_annos_line)\n",
    "\n",
    "\n",
    "def process_images(all_images, annotations, image_read_path, label_write_path, image_write_path, OUT_IMGSZ):\n",
    "\n",
    "    for img in all_images:\n",
    "\n",
    "        print(img)\n",
    "        image_file = image_read_path + '/' + img\n",
    "        wd, ht = get_image_read_path_and_size(image_file)\n",
    "\n",
    "        img_resized, scale_factor = resize_image(image_file, OUT_IMGSZ)\n",
    "        save_resized_image(img_resized, image_write_path, img)\n",
    "\n",
    "        img_obj = get_image_object(annotations, img)\n",
    "        if img_obj is not None:\n",
    "            lbl = process_label_data(img_obj)\n",
    "\n",
    "            label_file_name = img.split('.')[0] + '.txt'\n",
    "            with create_label_file(label_write_path, label_file_name) as f1:\n",
    "                process_objects(lbl, wd, ht, f1, scale_factor)"
   ]
  },
  {
   "cell_type": "markdown",
   "id": "0a4c0a87",
   "metadata": {},
   "source": [
    "## Settings"
   ]
  },
  {
   "cell_type": "code",
   "execution_count": 4,
   "id": "c9c4694a",
   "metadata": {},
   "outputs": [],
   "source": [
    "# Label dictionary\n",
    "CLASS_DICT = {'crossarm':0,\n",
    "              'cutouts':1,\n",
    "              'insulator':2,\n",
    "              'pole':3,\n",
    "              'transformers':4,\n",
    "              'background_structure':5}"
   ]
  },
  {
   "cell_type": "code",
   "execution_count": 5,
   "id": "9ffe328e",
   "metadata": {},
   "outputs": [],
   "source": [
    "#image size\n",
    "OUT_IMGSZ = 768"
   ]
  },
  {
   "cell_type": "code",
   "execution_count": 6,
   "id": "b6db89f8",
   "metadata": {},
   "outputs": [
    {
     "name": "stdout",
     "output_type": "stream",
     "text": [
      "/home/farid_javadnejad/power_line_inspection_yolov8\n"
     ]
    }
   ],
   "source": [
    "# Define root directory\n",
    "ROOT_PATH = os.path.normpath(os.getcwd() + os.sep + os.pardir)\n",
    "print(ROOT_PATH)"
   ]
  },
  {
   "cell_type": "markdown",
   "id": "ada2f341",
   "metadata": {},
   "source": [
    "## Read Annotation"
   ]
  },
  {
   "cell_type": "code",
   "execution_count": 7,
   "id": "211a1cc0",
   "metadata": {},
   "outputs": [],
   "source": [
    "# Annotation file\n",
    "annotation_csv = ROOT_PATH + '/data/raw/annotation/' + 'Overhead-Distribution-Labels.csv'"
   ]
  },
  {
   "cell_type": "code",
   "execution_count": 8,
   "id": "dedf370c",
   "metadata": {},
   "outputs": [],
   "source": [
    "#Read annotations\n",
    "annotations = pd.read_csv(annotation_csv)"
   ]
  },
  {
   "cell_type": "code",
   "execution_count": 9,
   "id": "f622da75",
   "metadata": {},
   "outputs": [
    {
     "data": {
      "text/html": [
       "<div>\n",
       "<style scoped>\n",
       "    .dataframe tbody tr th:only-of-type {\n",
       "        vertical-align: middle;\n",
       "    }\n",
       "\n",
       "    .dataframe tbody tr th {\n",
       "        vertical-align: top;\n",
       "    }\n",
       "\n",
       "    .dataframe thead th {\n",
       "        text-align: right;\n",
       "    }\n",
       "</style>\n",
       "<table border=\"1\" class=\"dataframe\">\n",
       "  <thead>\n",
       "    <tr style=\"text-align: right;\">\n",
       "      <th></th>\n",
       "      <th>label</th>\n",
       "    </tr>\n",
       "    <tr>\n",
       "      <th>image</th>\n",
       "      <th></th>\n",
       "    </tr>\n",
       "  </thead>\n",
       "  <tbody>\n",
       "    <tr>\n",
       "      <th>1 (1).jpg</th>\n",
       "      <td>{'objects': [{'value': 'insulator', 'polygon':...</td>\n",
       "    </tr>\n",
       "    <tr>\n",
       "      <th>1 (10).jpg</th>\n",
       "      <td>{'objects': [{'value': 'other_wire', 'line': [...</td>\n",
       "    </tr>\n",
       "    <tr>\n",
       "      <th>1 (100).jpg</th>\n",
       "      <td>{'objects': [{'value': 'insulator', 'polygon':...</td>\n",
       "    </tr>\n",
       "    <tr>\n",
       "      <th>1 (1000).jpg</th>\n",
       "      <td>{'objects': [{'value': 'conductor', 'line': [{...</td>\n",
       "    </tr>\n",
       "    <tr>\n",
       "      <th>1 (1001).jpg</th>\n",
       "      <td>{'objects': [{'value': 'insulator', 'polygon':...</td>\n",
       "    </tr>\n",
       "  </tbody>\n",
       "</table>\n",
       "</div>"
      ],
      "text/plain": [
       "                                                          label\n",
       "image                                                          \n",
       "1 (1).jpg     {'objects': [{'value': 'insulator', 'polygon':...\n",
       "1 (10).jpg    {'objects': [{'value': 'other_wire', 'line': [...\n",
       "1 (100).jpg   {'objects': [{'value': 'insulator', 'polygon':...\n",
       "1 (1000).jpg  {'objects': [{'value': 'conductor', 'line': [{...\n",
       "1 (1001).jpg  {'objects': [{'value': 'insulator', 'polygon':..."
      ]
     },
     "execution_count": 9,
     "metadata": {},
     "output_type": "execute_result"
    }
   ],
   "source": [
    "#prepare annotation dataframe\n",
    "annotations.columns = ['label', 'image']\n",
    "annotations['image'] = annotations['image'].str.lower()\n",
    "annotations.set_index(['image'], inplace=True)\n",
    "annotations.head()"
   ]
  },
  {
   "cell_type": "markdown",
   "id": "9a15c8ff",
   "metadata": {},
   "source": [
    "## Process labels"
   ]
  },
  {
   "cell_type": "code",
   "execution_count": 10,
   "id": "05bae808",
   "metadata": {
    "scrolled": false
   },
   "outputs": [
    {
     "name": "stdout",
     "output_type": "stream",
     "text": [
      "Processing labels...\n",
      "###################### test #############################\n",
      "1 (413).JPG\n",
      "1 (1874).JPG\n",
      "1 (570).JPG\n",
      "1 (397).JPG\n",
      "1 (128).JPG\n",
      "1 (169).JPG\n",
      "1 (937).JPG\n",
      "1 (1571).JPG\n",
      "1 (703).JPG\n",
      "1 (696).JPG\n",
      "1 (336).JPG\n",
      "1 (7).JPG\n",
      "1 (1530).JPG\n",
      "1 (436).JPG\n",
      "1 (999).JPG\n",
      "###################### train #############################\n",
      "1 (1280).JPG\n",
      "1 (668).JPG\n",
      "1 (709).JPG\n",
      "1 (477).JPG\n",
      "1 (807).JPG\n",
      "1 (542).JPG\n",
      "1 (985).JPG\n",
      "1 (1387).JPG\n",
      "1 (186).JPG\n",
      "1 (458).JPG\n",
      "1 (746).JPG\n",
      "1 (981).JPG\n",
      "1 (1678).JPG\n",
      "1 (816).JPG\n",
      "1 (884).JPG\n",
      "1 (1096).JPG\n",
      "1 (175).JPG\n",
      "1 (266).JPG\n",
      "1 (125).JPG\n",
      "1 (1538).JPG\n",
      "1 (313).JPG\n",
      "1 (1322).JPG\n",
      "1 (1364).JPG\n",
      "1 (1188).JPG\n",
      "1 (993).JPG\n",
      "1 (612).JPG\n",
      "1 (1314).JPG\n",
      "1 (479).JPG\n",
      "1 (188).JPG\n",
      "1 (123).JPG\n",
      "1 (1406).JPG\n",
      "1 (559).JPG\n",
      "1 (727).JPG\n",
      "1 (1893).JPG\n",
      "1 (1633).JPG\n",
      "1 (45).JPG\n",
      "1 (750).JPG\n",
      "1 (1193).JPG\n",
      "1 (1674).JPG\n",
      "1 (1494).JPG\n",
      "1 (30).JPG\n",
      "1 (1130).JPG\n",
      "1 (718).JPG\n",
      "1 (1204).JPG\n",
      "1 (629).JPG\n",
      "1 (323).JPG\n",
      "1 (1296).JPG\n",
      "1 (80).JPG\n",
      "1 (1407).JPG\n",
      "1 (1262).JPG\n",
      "1 (541).JPG\n",
      "1 (16).JPG\n",
      "1 (1577).JPG\n",
      "1 (1331).JPG\n",
      "1 (109).JPG\n",
      "1 (881).JPG\n",
      "1 (347).JPG\n",
      "1 (429).JPG\n",
      "1 (818).JPG\n",
      "1 (1151).JPG\n",
      "1 (1479).JPG\n",
      "1 (1051).JPG\n",
      "1 (411).JPG\n",
      "1 (53).JPG\n",
      "1 (1705).JPG\n",
      "1 (389).JPG\n",
      "1 (873).JPG\n",
      "1 (1403).JPG\n",
      "1 (1401).JPG\n",
      "1 (785).JPG\n",
      "###################### val #############################\n",
      "1 (1153).JPG\n",
      "1 (1604).JPG\n",
      "1 (788).JPG\n",
      "1 (1658).JPG\n",
      "1 (1068).JPG\n",
      "1 (238).JPG\n",
      "1 (292).JPG\n",
      "1 (1587).JPG\n",
      "1 (1199).JPG\n",
      "1 (1870).JPG\n",
      "1 (1433).JPG\n",
      "1 (1901).JPG\n",
      "1 (373).JPG\n",
      "1 (330).JPG\n",
      "1 (1307).JPG\n"
     ]
    }
   ],
   "source": [
    "# Choose dataset \"test|train|val\"\n",
    "DATASETS = ['test', 'train', 'val']\n",
    "\n",
    "print('Processing labels...')\n",
    "\n",
    "for DATASET in DATASETS:\n",
    "    \n",
    "    print('###################### ' + DATASET + ' #############################')\n",
    "        \n",
    "    ############## READ IMAGES #############\n",
    "    # Define image and label read folders\n",
    "    image_read_path= ROOT_PATH + '/data/intermdiate/' + DATASET + '/images/'\n",
    "    # Display reading images\n",
    "    all_images = get_files_with_extension(image_read_path, 'jpg')\n",
    "    \n",
    "    ############## WRITE FODLER ##############\n",
    "    # Define image and label write folders\n",
    "    image_write_path = ROOT_PATH + '/data/processed/' + DATASET + '/images/'\n",
    "    label_write_path = ROOT_PATH + '/data/processed/' + DATASET + '/labels/'\n",
    "    \n",
    "    \n",
    "    ############## CREATE FODLERS ##############\n",
    "    #Create the folder if it doesn't exist\n",
    "    if not os.path.exists(image_write_path):\n",
    "        os.makedirs(image_write_path, exist_ok=True)        \n",
    "    if not os.path.exists(label_write_path):\n",
    "        os.makedirs(label_write_path, exist_ok=True)\n",
    "\n",
    "    ############## PROCESS LABELS ##############\n",
    "    process_images(all_images, annotations, image_read_path, label_write_path, image_write_path, OUT_IMGSZ)"
   ]
  },
  {
   "cell_type": "code",
   "execution_count": 11,
   "id": "58d62786",
   "metadata": {},
   "outputs": [
    {
     "name": "stdout",
     "output_type": "stream",
     "text": [
      "Done\n"
     ]
    }
   ],
   "source": [
    "print('Done')"
   ]
  },
  {
   "cell_type": "code",
   "execution_count": null,
   "id": "0cdad5fb",
   "metadata": {},
   "outputs": [],
   "source": []
  }
 ],
 "metadata": {
  "kernelspec": {
   "display_name": "Python 3 (ipykernel)",
   "language": "python",
   "name": "python3"
  },
  "language_info": {
   "codemirror_mode": {
    "name": "ipython",
    "version": 3
   },
   "file_extension": ".py",
   "mimetype": "text/x-python",
   "name": "python",
   "nbconvert_exporter": "python",
   "pygments_lexer": "ipython3",
   "version": "3.11.3"
  }
 },
 "nbformat": 4,
 "nbformat_minor": 5
}
