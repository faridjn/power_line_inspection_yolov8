{
 "cells": [
  {
   "attachments": {},
   "cell_type": "markdown",
   "id": "9c8c002e",
   "metadata": {},
   "source": [
    "# Pre-processing YOLO labels\n",
    "<sub>Author: [faridjn</sub>](https://github.com/faridjn)"
   ]
  },
  {
   "attachments": {},
   "cell_type": "markdown",
   "id": "14dbc046",
   "metadata": {},
   "source": [
    "## Libraries"
   ]
  },
  {
   "attachments": {},
   "cell_type": "markdown",
   "id": "a7af96c2",
   "metadata": {},
   "source": [
    "### Import necessary libraries"
   ]
  },
  {
   "cell_type": "code",
   "execution_count": 1,
   "id": "5e1ab341",
   "metadata": {},
   "outputs": [],
   "source": [
    "#fundamental\n",
    "import pandas as pd\n",
    "import json\n",
    "\n",
    "#OS and sys\n",
    "import os\n",
    "\n",
    "#labels geometry\n",
    "from shapely.geometry import box\n",
    "from PIL import Image\n",
    "from shapely.geometry import Polygon"
   ]
  },
  {
   "attachments": {},
   "cell_type": "markdown",
   "id": "0a4c0a87",
   "metadata": {},
   "source": [
    "## Settings"
   ]
  },
  {
   "attachments": {},
   "cell_type": "markdown",
   "id": "9e71482b",
   "metadata": {},
   "source": [
    "### Label dictionary"
   ]
  },
  {
   "cell_type": "code",
   "execution_count": 2,
   "id": "c9c4694a",
   "metadata": {},
   "outputs": [],
   "source": [
    "CLASS_DICT = {'crossarm':0,\n",
    "              'cutouts':1,\n",
    "              'insulator':2,\n",
    "              'pole':3,\n",
    "              'transformers':4,\n",
    "              'background_structure':5}"
   ]
  },
  {
   "attachments": {},
   "cell_type": "markdown",
   "id": "22257126",
   "metadata": {},
   "source": [
    "### Datasets"
   ]
  },
  {
   "attachments": {},
   "cell_type": "markdown",
   "id": "f508257b",
   "metadata": {},
   "source": [
    "#### Directories"
   ]
  },
  {
   "cell_type": "code",
   "execution_count": 3,
   "id": "b6db89f8",
   "metadata": {},
   "outputs": [],
   "source": [
    "# Define root directory\n",
    "ROOT_PATH = os.path.normpath(os.getcwd() + os.sep + os.pardir)"
   ]
  },
  {
   "cell_type": "code",
   "execution_count": 4,
   "id": "3b5ce1c9",
   "metadata": {},
   "outputs": [],
   "source": [
    "# Choose dataset \"test|train|val\"\n",
    "DATASETS = ['test', 'train', 'val']\n",
    "DATASET = DATASETS[2]"
   ]
  },
  {
   "cell_type": "code",
   "execution_count": 5,
   "id": "9ea9de4f",
   "metadata": {},
   "outputs": [],
   "source": [
    "# Define image and lalbel folders\n",
    "data_path = ROOT_PATH + '\\\\data\\\\' + DATASET\n",
    "image_path= data_path + '\\\\images\\\\'\n",
    "label_path = data_path + '\\\\labels\\\\'"
   ]
  },
  {
   "attachments": {},
   "cell_type": "markdown",
   "id": "a28d8237",
   "metadata": {},
   "source": [
    "#### Output image settings"
   ]
  },
  {
   "cell_type": "code",
   "execution_count": 6,
   "id": "9ffe328e",
   "metadata": {},
   "outputs": [],
   "source": [
    "#image size\n",
    "out_imgsz = 640\n",
    "output_path = image_path"
   ]
  },
  {
   "attachments": {},
   "cell_type": "markdown",
   "id": "1bdc8e3e",
   "metadata": {},
   "source": [
    "#### Annotation file"
   ]
  },
  {
   "cell_type": "code",
   "execution_count": 7,
   "id": "211a1cc0",
   "metadata": {},
   "outputs": [],
   "source": [
    "annotation_csv = ROOT_PATH + '\\\\data\\\\annotation\\\\' + 'Overhead-Distribution-Labels.csv'"
   ]
  },
  {
   "attachments": {},
   "cell_type": "markdown",
   "id": "2092e8cb",
   "metadata": {},
   "source": [
    "## Utility Functions"
   ]
  },
  {
   "cell_type": "code",
   "execution_count": 8,
   "id": "ae4dd13a",
   "metadata": {},
   "outputs": [],
   "source": [
    "def get_files_with_extension(folder, extension):    \n",
    "    '''a function that takes a folder path and a file extension as inputs, \n",
    "    and returns a list of all files in the folder with the specified extension,\n",
    "    case-insensitive. It can be used for quickly obtaining a list of files\n",
    "    with a specific file type from a directory'''\n",
    "    # specify the desired file extension\n",
    "    extension = extension.lower()\n",
    "    # get a list of all files in the folder\n",
    "    files = os.listdir(folder)\n",
    "    # filter out only the files with the desired extension\n",
    "    files_with_extention = [f for f in files if f.lower().endswith(extension)]\n",
    "    # print the list of desired files\n",
    "    return files_with_extention\n",
    "\n",
    "def get_image_path_and_size(image_file):\n",
    "    imgpil = Image.open(image_file)\n",
    "    wd, ht = imgpil.size\n",
    "    return wd, ht\n",
    "\n",
    "\n",
    "def resize_image(image_file, out_imgsz):\n",
    "    imgpil = Image.open(image_file)\n",
    "    wd, ht = imgpil.size\n",
    "    scale_factor = out_imgsz / max(wd, ht)\n",
    "    img_resized = imgpil.resize((int(wd * scale_factor), int(ht * scale_factor)), Image.LANCZOS)\n",
    "    return img_resized, scale_factor\n",
    "\n",
    "\n",
    "def save_resized_image(img_resized, output_path, img):\n",
    "    img_resized.save(output_path + '\\\\' + img)\n",
    "\n",
    "\n",
    "def get_image_object(annotations, img):\n",
    "    filt = annotations.index.str.lower() == img.lower()\n",
    "    if filt.sum() == 1:\n",
    "        return annotations.loc[filt]\n",
    "    return None\n",
    "\n",
    "\n",
    "def process_label_data(img_obj):\n",
    "    lbl = img_obj['label'].iloc[0]\n",
    "    lbl = lbl.replace(\"\\'\", \"\\\"\")\n",
    "    return json.loads(lbl)\n",
    "\n",
    "\n",
    "def create_label_file(label_path, label_file_name):\n",
    "    return open(label_path + label_file_name, 'w')\n",
    "\n",
    "\n",
    "# polygon = Polygon([(0, 0), (1, 1), (1, 0)])\n",
    "def polygon_to_bbox(polygon_cords):\n",
    "    '''Args: List of Polygon_cords '''\n",
    "    polygon = Polygon(polygon_cords)\n",
    "    return polygon.bounds\n",
    "\n",
    "\n",
    "def process_objects(lbl, wd, ht, f1, scale_factor):\n",
    "    for obj in lbl['objects']:\n",
    "        polygon_coords_list = []\n",
    "\n",
    "        polygon_coords = obj.get('polygon')\n",
    "        if polygon_coords is not None:\n",
    "            for pnt in polygon_coords:\n",
    "                polygon_coords_list.append(tuple(pnt.values()))\n",
    "\n",
    "            polygon_coords_list = [(int(x * scale_factor), int(y * scale_factor)) for x, y in polygon_coords_list]\n",
    "\n",
    "            bbox = polygon_to_bbox(polygon_coords_list)\n",
    "            minx, miny, maxx, maxy = bbox\n",
    "\n",
    "            bbox_s = box(minx, miny, maxx, maxy)\n",
    "\n",
    "            object_annos_line = str(CLASS_DICT[obj['value']]) + ' ' \\\n",
    "                                + str(bbox_s.centroid.x / (wd * scale_factor)) + ' ' \\\n",
    "                                + str(bbox_s.centroid.y / (ht * scale_factor)) + ' ' \\\n",
    "                                + str((maxx - minx) / (wd * scale_factor)) + ' ' \\\n",
    "                                + str((maxy - miny) / (ht * scale_factor)) + '\\n'\n",
    "\n",
    "            f1.write(object_annos_line)\n",
    "\n",
    "\n",
    "def process_images(all_images, annotations, image_path, label_path, output_path, out_imgsz):\n",
    "    print('Processing labels...')\n",
    "\n",
    "    for img in all_images:\n",
    "\n",
    "        print(img)\n",
    "        image_file = image_path + '\\\\' + img\n",
    "        wd, ht = get_image_path_and_size(image_file)\n",
    "\n",
    "        img_resized, scale_factor = resize_image(image_file, out_imgsz)\n",
    "        save_resized_image(img_resized, output_path, img)\n",
    "\n",
    "        img_obj = get_image_object(annotations, img)\n",
    "        if img_obj is not None:\n",
    "            lbl = process_label_data(img_obj)\n",
    "\n",
    "            label_file_name = img.split('.')[0] + '.txt'\n",
    "            with create_label_file(label_path, label_file_name) as f1:\n",
    "                process_objects(lbl, wd, ht, f1, scale_factor)"
   ]
  },
  {
   "attachments": {},
   "cell_type": "markdown",
   "id": "ada2f341",
   "metadata": {},
   "source": [
    "## Read Data"
   ]
  },
  {
   "attachments": {},
   "cell_type": "markdown",
   "id": "b35fc5a1",
   "metadata": {},
   "source": [
    "### Read Annotations"
   ]
  },
  {
   "cell_type": "code",
   "execution_count": 9,
   "id": "dedf370c",
   "metadata": {},
   "outputs": [],
   "source": [
    "#Read annotations\n",
    "annotations = pd.read_csv(annotation_csv)"
   ]
  },
  {
   "cell_type": "code",
   "execution_count": 10,
   "id": "42f3f0a6",
   "metadata": {},
   "outputs": [],
   "source": [
    "if not os.path.exists(label_path):\n",
    "    os.mkdir(label_path)"
   ]
  },
  {
   "attachments": {},
   "cell_type": "markdown",
   "id": "1119e28e",
   "metadata": {},
   "source": [
    "## Process labels"
   ]
  },
  {
   "attachments": {},
   "cell_type": "markdown",
   "id": "ef97f29e",
   "metadata": {},
   "source": [
    "### Prepare annotations"
   ]
  },
  {
   "cell_type": "code",
   "execution_count": 11,
   "id": "f622da75",
   "metadata": {},
   "outputs": [
    {
     "data": {
      "text/html": [
       "<div>\n",
       "<style scoped>\n",
       "    .dataframe tbody tr th:only-of-type {\n",
       "        vertical-align: middle;\n",
       "    }\n",
       "\n",
       "    .dataframe tbody tr th {\n",
       "        vertical-align: top;\n",
       "    }\n",
       "\n",
       "    .dataframe thead th {\n",
       "        text-align: right;\n",
       "    }\n",
       "</style>\n",
       "<table border=\"1\" class=\"dataframe\">\n",
       "  <thead>\n",
       "    <tr style=\"text-align: right;\">\n",
       "      <th></th>\n",
       "      <th>label</th>\n",
       "    </tr>\n",
       "    <tr>\n",
       "      <th>image</th>\n",
       "      <th></th>\n",
       "    </tr>\n",
       "  </thead>\n",
       "  <tbody>\n",
       "    <tr>\n",
       "      <th>1 (1).jpg</th>\n",
       "      <td>{'objects': [{'value': 'insulator', 'polygon':...</td>\n",
       "    </tr>\n",
       "    <tr>\n",
       "      <th>1 (10).jpg</th>\n",
       "      <td>{'objects': [{'value': 'other_wire', 'line': [...</td>\n",
       "    </tr>\n",
       "    <tr>\n",
       "      <th>1 (100).jpg</th>\n",
       "      <td>{'objects': [{'value': 'insulator', 'polygon':...</td>\n",
       "    </tr>\n",
       "    <tr>\n",
       "      <th>1 (1000).jpg</th>\n",
       "      <td>{'objects': [{'value': 'conductor', 'line': [{...</td>\n",
       "    </tr>\n",
       "    <tr>\n",
       "      <th>1 (1001).jpg</th>\n",
       "      <td>{'objects': [{'value': 'insulator', 'polygon':...</td>\n",
       "    </tr>\n",
       "  </tbody>\n",
       "</table>\n",
       "</div>"
      ],
      "text/plain": [
       "                                                          label\n",
       "image                                                          \n",
       "1 (1).jpg     {'objects': [{'value': 'insulator', 'polygon':...\n",
       "1 (10).jpg    {'objects': [{'value': 'other_wire', 'line': [...\n",
       "1 (100).jpg   {'objects': [{'value': 'insulator', 'polygon':...\n",
       "1 (1000).jpg  {'objects': [{'value': 'conductor', 'line': [{...\n",
       "1 (1001).jpg  {'objects': [{'value': 'insulator', 'polygon':..."
      ]
     },
     "execution_count": 11,
     "metadata": {},
     "output_type": "execute_result"
    }
   ],
   "source": [
    "#prepare annotation dataframe\n",
    "annotations.columns = ['label', 'image']\n",
    "annotations['image'] = annotations['image'].str.lower()\n",
    "annotations.set_index(['image'], inplace=True)\n",
    "annotations.head()"
   ]
  },
  {
   "attachments": {},
   "cell_type": "markdown",
   "id": "c5cf2a6c",
   "metadata": {},
   "source": [
    "### Check image names"
   ]
  },
  {
   "cell_type": "code",
   "execution_count": 12,
   "id": "f4c32121",
   "metadata": {},
   "outputs": [
    {
     "data": {
      "text/plain": [
       "['1 (1082).JPG',\n",
       " '1 (1126).JPG',\n",
       " '1 (1145).JPG',\n",
       " '1 (1352).JPG',\n",
       " '1 (1418).JPG',\n",
       " '1 (1531).JPG',\n",
       " '1 (1665).JPG',\n",
       " '1 (344).JPG',\n",
       " '1 (5).JPG',\n",
       " '1 (579).JPG',\n",
       " '1 (705).JPG',\n",
       " '1 (857).JPG',\n",
       " '1 (869).JPG',\n",
       " '1 (878).JPG',\n",
       " '1 (912).JPG']"
      ]
     },
     "execution_count": 12,
     "metadata": {},
     "output_type": "execute_result"
    }
   ],
   "source": [
    "all_images = get_files_with_extension(image_path, 'jpg')\n",
    "all_images"
   ]
  },
  {
   "attachments": {},
   "cell_type": "markdown",
   "id": "9a15c8ff",
   "metadata": {},
   "source": [
    "### Process labels"
   ]
  },
  {
   "cell_type": "code",
   "execution_count": 13,
   "id": "05bae808",
   "metadata": {},
   "outputs": [
    {
     "name": "stdout",
     "output_type": "stream",
     "text": [
      "Processing labels...\n",
      "1 (1082).JPG\n",
      "1 (1126).JPG\n",
      "1 (1145).JPG\n",
      "1 (1352).JPG\n",
      "1 (1418).JPG\n",
      "1 (1531).JPG\n",
      "1 (1665).JPG\n",
      "1 (344).JPG\n",
      "1 (5).JPG\n",
      "1 (579).JPG\n",
      "1 (705).JPG\n",
      "1 (857).JPG\n",
      "1 (869).JPG\n",
      "1 (878).JPG\n",
      "1 (912).JPG\n"
     ]
    }
   ],
   "source": [
    "process_images(all_images, annotations, image_path, label_path, output_path, out_imgsz)"
   ]
  }
 ],
 "metadata": {
  "kernelspec": {
   "display_name": "Python 3 (ipykernel)",
   "language": "python",
   "name": "python3"
  },
  "language_info": {
   "codemirror_mode": {
    "name": "ipython",
    "version": 3
   },
   "file_extension": ".py",
   "mimetype": "text/x-python",
   "name": "python",
   "nbconvert_exporter": "python",
   "pygments_lexer": "ipython3",
   "version": "3.9.16"
  }
 },
 "nbformat": 4,
 "nbformat_minor": 5
}
