{
 "cells": [
  {
   "cell_type": "markdown",
   "id": "f0008c29",
   "metadata": {},
   "source": [
    "Install git"
   ]
  },
  {
   "cell_type": "code",
   "execution_count": 2,
   "id": "4768435b",
   "metadata": {},
   "outputs": [
    {
     "name": "stdout",
     "output_type": "stream",
     "text": [
      "Reading package lists... Done\n",
      "Building dependency tree       \n",
      "Reading state information... Done\n",
      "git is already the newest version (1:2.20.1-2+deb10u8).\n",
      "0 upgraded, 0 newly installed, 0 to remove and 39 not upgraded.\n"
     ]
    }
   ],
   "source": [
    "!sudo apt-get install -y git\n"
   ]
  },
  {
   "cell_type": "code",
   "execution_count": 3,
   "id": "d3df3f37",
   "metadata": {},
   "outputs": [
    {
     "name": "stdout",
     "output_type": "stream",
     "text": [
      "Collecting package metadata (current_repodata.json): done\n",
      "Solving environment: done\n",
      "\n",
      "\n",
      "==> WARNING: A newer version of conda exists. <==\n",
      "  current version: 22.9.0\n",
      "  latest version: 23.5.0\n",
      "\n",
      "Please update conda by running\n",
      "\n",
      "    $ conda update -n base -c conda-forge conda\n",
      "\n",
      "\n",
      "\n",
      "## Package Plan ##\n",
      "\n",
      "  environment location: /opt/conda/envs/yolov8\n",
      "\n",
      "  added / updated specs:\n",
      "    - git\n",
      "\n",
      "\n",
      "The following packages will be downloaded:\n",
      "\n",
      "    package                    |            build\n",
      "    ---------------------------|-----------------\n",
      "    c-ares-1.19.1              |       hd590300_0         111 KB  conda-forge\n",
      "    curl-8.1.1                 |       h409715c_0          88 KB  conda-forge\n",
      "    git-2.40.1                 | pl5321h86e50cf_0         9.0 MB  conda-forge\n",
      "    libcurl-8.1.1              |       h409715c_0         363 KB  conda-forge\n",
      "    libev-4.33                 |       h516909a_1         104 KB  conda-forge\n",
      "    libnghttp2-1.52.0          |       h61bc06f_0         608 KB  conda-forge\n",
      "    libssh2-1.10.0             |       hf14f497_3         234 KB  conda-forge\n",
      "    perl-5.32.1                | 2_h7f98852_perl5        14.4 MB  conda-forge\n",
      "    ------------------------------------------------------------\n",
      "                                           Total:        24.8 MB\n",
      "\n",
      "The following NEW packages will be INSTALLED:\n",
      "\n",
      "  c-ares             conda-forge/linux-64::c-ares-1.19.1-hd590300_0 None\n",
      "  curl               conda-forge/linux-64::curl-8.1.1-h409715c_0 None\n",
      "  git                conda-forge/linux-64::git-2.40.1-pl5321h86e50cf_0 None\n",
      "  libcurl            conda-forge/linux-64::libcurl-8.1.1-h409715c_0 None\n",
      "  libev              conda-forge/linux-64::libev-4.33-h516909a_1 None\n",
      "  libnghttp2         conda-forge/linux-64::libnghttp2-1.52.0-h61bc06f_0 None\n",
      "  libssh2            conda-forge/linux-64::libssh2-1.10.0-hf14f497_3 None\n",
      "  perl               conda-forge/linux-64::perl-5.32.1-2_h7f98852_perl5 None\n",
      "\n",
      "\n",
      "\n",
      "Downloading and Extracting Packages\n",
      "libev-4.33           | 104 KB    | ##################################### | 100% \n",
      "libssh2-1.10.0       | 234 KB    | ##################################### | 100% \n",
      "libnghttp2-1.52.0    | 608 KB    | ##################################### | 100% \n",
      "perl-5.32.1          | 14.4 MB   | ##################################### | 100% \n",
      "git-2.40.1           | 9.0 MB    | ##################################### | 100% \n",
      "c-ares-1.19.1        | 111 KB    | ##################################### | 100% \n",
      "curl-8.1.1           | 88 KB     | ##################################### | 100% \n",
      "libcurl-8.1.1        | 363 KB    | ##################################### | 100% \n",
      "Preparing transaction: done\n",
      "Verifying transaction: done\n",
      "Executing transaction: done\n",
      "Retrieving notices: ...working... done\n"
     ]
    }
   ],
   "source": [
    "!conda install -y git"
   ]
  },
  {
   "cell_type": "markdown",
   "id": "e52e2c18",
   "metadata": {},
   "source": [
    "Clone git"
   ]
  },
  {
   "cell_type": "code",
   "execution_count": 4,
   "id": "1005b543",
   "metadata": {},
   "outputs": [
    {
     "name": "stdout",
     "output_type": "stream",
     "text": [
      "Cloning into 'power_line_inspection_yolov8'...\n",
      "remote: Enumerating objects: 1068, done.\u001b[K\n",
      "remote: Counting objects: 100% (242/242), done.\u001b[K\n",
      "remote: Compressing objects: 100% (184/184), done.\u001b[K\n",
      "remote: Total 1068 (delta 51), reused 242 (delta 51), pack-reused 826\u001b[K\n",
      "Receiving objects: 100% (1068/1068), 460.66 MiB | 23.84 MiB/s, done.\n",
      "Resolving deltas: 100% (234/234), done.\n",
      "Updating files: 100% (394/394), done.\n"
     ]
    }
   ],
   "source": [
    "!git clone https://github.com/faridjn/power_line_inspection_yolov8"
   ]
  },
  {
   "cell_type": "markdown",
   "id": "e87c42fa",
   "metadata": {},
   "source": [
    "Copy data folder"
   ]
  },
  {
   "cell_type": "code",
   "execution_count": 11,
   "id": "0029f545",
   "metadata": {},
   "outputs": [
    {
     "name": "stdout",
     "output_type": "stream",
     "text": [
      "Requirement already satisfied: google-cloud-storage in /opt/conda/envs/yolov8/lib/python3.11/site-packages (2.9.0)\n",
      "Requirement already satisfied: google-auth<3.0dev,>=1.25.0 in /opt/conda/envs/yolov8/lib/python3.11/site-packages (from google-cloud-storage) (2.18.1)\n",
      "Requirement already satisfied: google-api-core!=2.0.*,!=2.1.*,!=2.2.*,!=2.3.0,<3.0.0dev,>=1.31.5 in /opt/conda/envs/yolov8/lib/python3.11/site-packages (from google-cloud-storage) (2.11.0)\n",
      "Requirement already satisfied: google-cloud-core<3.0dev,>=2.3.0 in /opt/conda/envs/yolov8/lib/python3.11/site-packages (from google-cloud-storage) (2.3.2)\n",
      "Requirement already satisfied: google-resumable-media>=2.3.2 in /opt/conda/envs/yolov8/lib/python3.11/site-packages (from google-cloud-storage) (2.5.0)\n",
      "Requirement already satisfied: requests<3.0.0dev,>=2.18.0 in /opt/conda/envs/yolov8/lib/python3.11/site-packages (from google-cloud-storage) (2.31.0)\n",
      "Requirement already satisfied: googleapis-common-protos<2.0dev,>=1.56.2 in /opt/conda/envs/yolov8/lib/python3.11/site-packages (from google-api-core!=2.0.*,!=2.1.*,!=2.2.*,!=2.3.0,<3.0.0dev,>=1.31.5->google-cloud-storage) (1.59.0)\n",
      "Requirement already satisfied: protobuf!=3.20.0,!=3.20.1,!=4.21.0,!=4.21.1,!=4.21.2,!=4.21.3,!=4.21.4,!=4.21.5,<5.0.0dev,>=3.19.5 in /opt/conda/envs/yolov8/lib/python3.11/site-packages (from google-api-core!=2.0.*,!=2.1.*,!=2.2.*,!=2.3.0,<3.0.0dev,>=1.31.5->google-cloud-storage) (4.23.1)\n",
      "Requirement already satisfied: cachetools<6.0,>=2.0.0 in /opt/conda/envs/yolov8/lib/python3.11/site-packages (from google-auth<3.0dev,>=1.25.0->google-cloud-storage) (5.3.0)\n",
      "Requirement already satisfied: pyasn1-modules>=0.2.1 in /opt/conda/envs/yolov8/lib/python3.11/site-packages (from google-auth<3.0dev,>=1.25.0->google-cloud-storage) (0.3.0)\n",
      "Requirement already satisfied: six>=1.9.0 in /opt/conda/envs/yolov8/lib/python3.11/site-packages (from google-auth<3.0dev,>=1.25.0->google-cloud-storage) (1.16.0)\n",
      "Requirement already satisfied: urllib3<2.0 in /opt/conda/envs/yolov8/lib/python3.11/site-packages (from google-auth<3.0dev,>=1.25.0->google-cloud-storage) (1.26.16)\n",
      "Requirement already satisfied: rsa<5,>=3.1.4 in /opt/conda/envs/yolov8/lib/python3.11/site-packages (from google-auth<3.0dev,>=1.25.0->google-cloud-storage) (4.9)\n",
      "Requirement already satisfied: google-crc32c<2.0dev,>=1.0 in /opt/conda/envs/yolov8/lib/python3.11/site-packages (from google-resumable-media>=2.3.2->google-cloud-storage) (1.5.0)\n",
      "Requirement already satisfied: charset-normalizer<4,>=2 in /opt/conda/envs/yolov8/lib/python3.11/site-packages (from requests<3.0.0dev,>=2.18.0->google-cloud-storage) (3.1.0)\n",
      "Requirement already satisfied: idna<4,>=2.5 in /opt/conda/envs/yolov8/lib/python3.11/site-packages (from requests<3.0.0dev,>=2.18.0->google-cloud-storage) (3.4)\n",
      "Requirement already satisfied: certifi>=2017.4.17 in /opt/conda/envs/yolov8/lib/python3.11/site-packages (from requests<3.0.0dev,>=2.18.0->google-cloud-storage) (2023.5.7)\n",
      "Requirement already satisfied: pyasn1<0.6.0,>=0.4.6 in /opt/conda/envs/yolov8/lib/python3.11/site-packages (from pyasn1-modules>=0.2.1->google-auth<3.0dev,>=1.25.0->google-cloud-storage) (0.5.0)\n"
     ]
    }
   ],
   "source": [
    "!pip install google-cloud-storage"
   ]
  },
  {
   "cell_type": "code",
   "execution_count": 1,
   "id": "eecc7fb0",
   "metadata": {},
   "outputs": [
    {
     "ename": "FileNotFoundError",
     "evalue": "[Errno 2] No such file or directory: 'D:\\\\gitProjects\\\\power_line_inspection_yolov8\\\\data'",
     "output_type": "error",
     "traceback": [
      "\u001b[0;31m---------------------------------------------------------------------------\u001b[0m",
      "\u001b[0;31mFileNotFoundError\u001b[0m                         Traceback (most recent call last)",
      "Cell \u001b[0;32mIn[1], line 13\u001b[0m\n\u001b[1;32m     10\u001b[0m vm_ip \u001b[38;5;241m=\u001b[39m \u001b[38;5;124m'\u001b[39m\u001b[38;5;124m35.199.189.107\u001b[39m\u001b[38;5;124m'\u001b[39m\n\u001b[1;32m     11\u001b[0m vm_folder_path \u001b[38;5;241m=\u001b[39m \u001b[38;5;124m'\u001b[39m\u001b[38;5;124m/home/farid_javadnejad/power_line_inspection_yolov8/data\u001b[39m\u001b[38;5;124m'\u001b[39m\n\u001b[0;32m---> 13\u001b[0m \u001b[43mcopy_folder_to_vm\u001b[49m\u001b[43m(\u001b[49m\u001b[43mlocal_folder_path\u001b[49m\u001b[43m,\u001b[49m\u001b[43m \u001b[49m\u001b[43mvm_username\u001b[49m\u001b[43m,\u001b[49m\u001b[43m \u001b[49m\u001b[43mvm_ip\u001b[49m\u001b[43m,\u001b[49m\u001b[43m \u001b[49m\u001b[43mvm_folder_path\u001b[49m\u001b[43m)\u001b[49m\n",
      "Cell \u001b[0;32mIn[1], line 5\u001b[0m, in \u001b[0;36mcopy_folder_to_vm\u001b[0;34m(local_folder_path, vm_username, vm_ip, vm_folder_path)\u001b[0m\n\u001b[1;32m      4\u001b[0m \u001b[38;5;28;01mdef\u001b[39;00m \u001b[38;5;21mcopy_folder_to_vm\u001b[39m(local_folder_path, vm_username, vm_ip, vm_folder_path):\n\u001b[0;32m----> 5\u001b[0m     \u001b[43mshutil\u001b[49m\u001b[38;5;241;43m.\u001b[39;49m\u001b[43mcopytree\u001b[49m\u001b[43m(\u001b[49m\u001b[43mlocal_folder_path\u001b[49m\u001b[43m,\u001b[49m\u001b[43m \u001b[49m\u001b[38;5;124;43mf\u001b[39;49m\u001b[38;5;124;43m'\u001b[39;49m\u001b[38;5;132;43;01m{\u001b[39;49;00m\u001b[43mvm_username\u001b[49m\u001b[38;5;132;43;01m}\u001b[39;49;00m\u001b[38;5;124;43m@\u001b[39;49m\u001b[38;5;132;43;01m{\u001b[39;49;00m\u001b[43mvm_ip\u001b[49m\u001b[38;5;132;43;01m}\u001b[39;49;00m\u001b[38;5;124;43m:\u001b[39;49m\u001b[38;5;132;43;01m{\u001b[39;49;00m\u001b[43mvm_folder_path\u001b[49m\u001b[38;5;132;43;01m}\u001b[39;49;00m\u001b[38;5;124;43m'\u001b[39;49m\u001b[43m)\u001b[49m\n",
      "File \u001b[0;32m/opt/conda/envs/yolov8/lib/python3.11/shutil.py:559\u001b[0m, in \u001b[0;36mcopytree\u001b[0;34m(src, dst, symlinks, ignore, copy_function, ignore_dangling_symlinks, dirs_exist_ok)\u001b[0m\n\u001b[1;32m    520\u001b[0m \u001b[38;5;250m\u001b[39m\u001b[38;5;124;03m\"\"\"Recursively copy a directory tree and return the destination directory.\u001b[39;00m\n\u001b[1;32m    521\u001b[0m \n\u001b[1;32m    522\u001b[0m \u001b[38;5;124;03mIf exception(s) occur, an Error is raised with a list of reasons.\u001b[39;00m\n\u001b[0;32m   (...)\u001b[0m\n\u001b[1;32m    556\u001b[0m \u001b[38;5;124;03m`src` tree.\u001b[39;00m\n\u001b[1;32m    557\u001b[0m \u001b[38;5;124;03m\"\"\"\u001b[39;00m\n\u001b[1;32m    558\u001b[0m sys\u001b[38;5;241m.\u001b[39maudit(\u001b[38;5;124m\"\u001b[39m\u001b[38;5;124mshutil.copytree\u001b[39m\u001b[38;5;124m\"\u001b[39m, src, dst)\n\u001b[0;32m--> 559\u001b[0m \u001b[38;5;28;01mwith\u001b[39;00m \u001b[43mos\u001b[49m\u001b[38;5;241;43m.\u001b[39;49m\u001b[43mscandir\u001b[49m\u001b[43m(\u001b[49m\u001b[43msrc\u001b[49m\u001b[43m)\u001b[49m \u001b[38;5;28;01mas\u001b[39;00m itr:\n\u001b[1;32m    560\u001b[0m     entries \u001b[38;5;241m=\u001b[39m \u001b[38;5;28mlist\u001b[39m(itr)\n\u001b[1;32m    561\u001b[0m \u001b[38;5;28;01mreturn\u001b[39;00m _copytree(entries\u001b[38;5;241m=\u001b[39mentries, src\u001b[38;5;241m=\u001b[39msrc, dst\u001b[38;5;241m=\u001b[39mdst, symlinks\u001b[38;5;241m=\u001b[39msymlinks,\n\u001b[1;32m    562\u001b[0m                  ignore\u001b[38;5;241m=\u001b[39mignore, copy_function\u001b[38;5;241m=\u001b[39mcopy_function,\n\u001b[1;32m    563\u001b[0m                  ignore_dangling_symlinks\u001b[38;5;241m=\u001b[39mignore_dangling_symlinks,\n\u001b[1;32m    564\u001b[0m                  dirs_exist_ok\u001b[38;5;241m=\u001b[39mdirs_exist_ok)\n",
      "\u001b[0;31mFileNotFoundError\u001b[0m: [Errno 2] No such file or directory: 'D:\\\\gitProjects\\\\power_line_inspection_yolov8\\\\data'"
     ]
    }
   ],
   "source": [
    "import shutil\n",
    "import os\n",
    "\n",
    "def copy_folder_to_vm(local_folder_path, vm_username, vm_ip, vm_folder_path):\n",
    "    shutil.copytree(local_folder_path, f'{vm_username}@{vm_ip}:{vm_folder_path}')\n",
    "\n",
    "# Usage example\n",
    "local_folder_path = r'D:\\gitProjects\\power_line_inspection_yolov8\\data'  # Update with your Windows path\n",
    "vm_username = 'farid.javadnejad@gmail.com'\n",
    "vm_ip = '35.199.189.107'\n",
    "vm_folder_path = '/home/farid_javadnejad/power_line_inspection_yolov8/data'\n",
    "\n",
    "copy_folder_to_vm(local_folder_path, vm_username, vm_ip, vm_folder_path)"
   ]
  },
  {
   "cell_type": "code",
   "execution_count": null,
   "id": "557a5ebf",
   "metadata": {},
   "outputs": [],
   "source": []
  }
 ],
 "metadata": {
  "kernelspec": {
   "display_name": "Python 3 (ipykernel)",
   "language": "python",
   "name": "python3"
  },
  "language_info": {
   "codemirror_mode": {
    "name": "ipython",
    "version": 3
   },
   "file_extension": ".py",
   "mimetype": "text/x-python",
   "name": "python",
   "nbconvert_exporter": "python",
   "pygments_lexer": "ipython3",
   "version": "3.11.3"
  }
 },
 "nbformat": 4,
 "nbformat_minor": 5
}
