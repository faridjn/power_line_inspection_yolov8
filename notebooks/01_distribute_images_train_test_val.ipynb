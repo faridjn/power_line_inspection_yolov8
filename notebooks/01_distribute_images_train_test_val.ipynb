{
 "cells": [
  {
   "attachments": {},
   "cell_type": "markdown",
   "metadata": {},
   "source": [
    "## Distribute images into tarin, test, val datasets"
   ]
  },
  {
   "attachments": {},
   "cell_type": "markdown",
   "metadata": {},
   "source": [
    "### Imports"
   ]
  },
  {
   "cell_type": "code",
   "execution_count": 2,
   "metadata": {},
   "outputs": [],
   "source": [
    "#Import libraries\n",
    "import os\n",
    "import random\n",
    "import shutil"
   ]
  },
  {
   "cell_type": "code",
   "execution_count": 3,
   "metadata": {},
   "outputs": [],
   "source": [
    "# Define root directory\n",
    "ROOT_PATH = os.path.normpath(os.getcwd() + os.sep + os.pardir)"
   ]
  },
  {
   "cell_type": "code",
   "execution_count": 4,
   "metadata": {},
   "outputs": [],
   "source": [
    "#Path to original images\n",
    "original_img_path = ROOT_PATH + '\\\\data\\\\' + '_Circuit1'\n",
    "\n",
    "#Path to `train`, `test`, `val` datasets\n",
    "train_path = ROOT_PATH + '\\\\data\\\\train\\\\images'\n",
    "val_path = ROOT_PATH + '\\\\data\\\\val\\\\images'\n",
    "test_path = ROOT_PATH + '\\\\data\\\\test\\\\images'"
   ]
  },
  {
   "cell_type": "code",
   "execution_count": 6,
   "metadata": {},
   "outputs": [],
   "source": [
    "def distribute_images(n, original_img_path, train_path, val_path, test_path, seed=42):\n",
    "\n",
    "    ''' Distibute n select images from source into train|val|test folder with the ratio of 70|15|15 '''\n",
    "    \n",
    "    random.seed(seed)\n",
    "    \n",
    "    #make directories\n",
    "    os.makedirs(train_path, exist_ok=True)\n",
    "    os.makedirs(val_path, exist_ok=True)\n",
    "    os.makedirs(test_path, exist_ok=True)\n",
    "    \n",
    "    #get iamges in original folder\n",
    "    img_files = os.listdir(original_img_path)\n",
    "    \n",
    "    #if n is larger than the number images, take all images\n",
    "    if n > len(img_files):\n",
    "        n = len(img_files)\n",
    "     \n",
    "    #randomly select `n` images\n",
    "    selected_files = random.sample(img_files, n)\n",
    "    \n",
    "\n",
    "    #Set numbr of train and val dataset percentage\n",
    "    train_size = int(n * 0.7)\n",
    "    val_size = int(n * 0.15)\n",
    "\n",
    "\n",
    "    # Genereate files name for each size\n",
    "    train_files = selected_files[:train_size]\n",
    "    val_files = selected_files[train_size:train_size + val_size]\n",
    "    test_files = selected_files[train_size + val_size:]\n",
    "\n",
    "    #copy radomly selected images to defined folders\n",
    "    for img_file in train_files:\n",
    "        shutil.copy(os.path.join(original_img_path, img_file), os.path.join(train_path, img_file))\n",
    "\n",
    "    for img_file in val_files:\n",
    "        shutil.copy(os.path.join(original_img_path, img_file), os.path.join(val_path, img_file))\n",
    "\n",
    "    for img_file in test_files:\n",
    "        shutil.copy(os.path.join(original_img_path, img_file), os.path.join(test_path, img_file))"
   ]
  },
  {
   "cell_type": "code",
   "execution_count": null,
   "metadata": {},
   "outputs": [],
   "source": [
    "# Number of images to process\n",
    "n = 100\n",
    "\n",
    "#Distibute `n` select images from source into (train:val:test) = (70:15:15)\n",
    "distribute_images(n, original_img_path, train_path, val_path, test_path)"
   ]
  }
 ],
 "metadata": {
  "kernelspec": {
   "display_name": "yolo",
   "language": "python",
   "name": "python3"
  },
  "language_info": {
   "codemirror_mode": {
    "name": "ipython",
    "version": 3
   },
   "file_extension": ".py",
   "mimetype": "text/x-python",
   "name": "python",
   "nbconvert_exporter": "python",
   "pygments_lexer": "ipython3",
   "version": "3.9.16"
  },
  "orig_nbformat": 4
 },
 "nbformat": 4,
 "nbformat_minor": 2
}
