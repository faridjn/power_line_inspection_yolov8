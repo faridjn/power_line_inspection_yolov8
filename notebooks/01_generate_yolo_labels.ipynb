{
 "cells": [
  {
   "attachments": {},
   "cell_type": "markdown",
   "id": "9c8c002e",
   "metadata": {},
   "source": [
    "# Generate YOLO labels\n",
    "<sub>Author: [faridjn</sub>](https://github.com/faridjn)"
   ]
  },
  {
   "attachments": {},
   "cell_type": "markdown",
   "id": "a7af96c2",
   "metadata": {},
   "source": [
    "## Import necessary libraries"
   ]
  },
  {
   "cell_type": "code",
   "execution_count": 15,
   "id": "5e1ab341",
   "metadata": {},
   "outputs": [],
   "source": [
    "#fundamental\n",
    "import pandas as pd\n",
    "import numpy as np\n",
    "import json\n",
    "\n",
    "#OS and sys\n",
    "import os\n",
    "import sys\n",
    "\n",
    "#labels geometry\n",
    "from shapely.geometry import box\n",
    "from PIL import Image\n",
    "from shapely.geometry import Polygon"
   ]
  },
  {
   "attachments": {},
   "cell_type": "markdown",
   "id": "9e71482b",
   "metadata": {},
   "source": [
    "## Define label dictionary"
   ]
  },
  {
   "cell_type": "code",
   "execution_count": 16,
   "id": "c9c4694a",
   "metadata": {},
   "outputs": [],
   "source": [
    "CLASS_DICT = {'crossarm':0,\n",
    "              'cutouts':1,\n",
    "              'insulator':2,\n",
    "              'pole':3,\n",
    "              'transformers':4,\n",
    "              'background_structure':5}"
   ]
  },
  {
   "attachments": {},
   "cell_type": "markdown",
   "id": "22257126",
   "metadata": {},
   "source": [
    "## Read annotations"
   ]
  },
  {
   "cell_type": "code",
   "execution_count": 17,
   "id": "b6db89f8",
   "metadata": {},
   "outputs": [
    {
     "name": "stdout",
     "output_type": "stream",
     "text": [
      "c:\\Farid\\gitProjects\\power_line_inspection_yolov8\n"
     ]
    }
   ],
   "source": [
    "# Define root directory\n",
    "root_path = os.path.normpath(os.getcwd() + os.sep + os.pardir)\n",
    "print(root_path)"
   ]
  },
  {
   "cell_type": "code",
   "execution_count": 18,
   "id": "767139d5",
   "metadata": {},
   "outputs": [],
   "source": [
    "#feature_path = root_path + '\\\\src\\\\features\\\\'\n",
    "#sys.path.append(feature_path)"
   ]
  },
  {
   "cell_type": "code",
   "execution_count": 19,
   "id": "211a1cc0",
   "metadata": {},
   "outputs": [],
   "source": [
    "#Read annotations\n",
    "annotation_csv = root_path + '\\\\data\\\\raw\\\\annotation\\\\' + 'Overhead-Distribution-Labels.csv'\n",
    "annotations = pd.read_csv(annotation_csv)"
   ]
  },
  {
   "cell_type": "code",
   "execution_count": 21,
   "id": "dedf370c",
   "metadata": {},
   "outputs": [
    {
     "data": {
      "text/html": [
       "<div>\n",
       "<style scoped>\n",
       "    .dataframe tbody tr th:only-of-type {\n",
       "        vertical-align: middle;\n",
       "    }\n",
       "\n",
       "    .dataframe tbody tr th {\n",
       "        vertical-align: top;\n",
       "    }\n",
       "\n",
       "    .dataframe thead th {\n",
       "        text-align: right;\n",
       "    }\n",
       "</style>\n",
       "<table border=\"1\" class=\"dataframe\">\n",
       "  <thead>\n",
       "    <tr style=\"text-align: right;\">\n",
       "      <th></th>\n",
       "      <th>label</th>\n",
       "    </tr>\n",
       "    <tr>\n",
       "      <th>image</th>\n",
       "      <th></th>\n",
       "    </tr>\n",
       "  </thead>\n",
       "  <tbody>\n",
       "    <tr>\n",
       "      <th>1 (1).jpg</th>\n",
       "      <td>{'objects': [{'value': 'insulator', 'polygon':...</td>\n",
       "    </tr>\n",
       "    <tr>\n",
       "      <th>1 (10).jpg</th>\n",
       "      <td>{'objects': [{'value': 'other_wire', 'line': [...</td>\n",
       "    </tr>\n",
       "    <tr>\n",
       "      <th>1 (100).jpg</th>\n",
       "      <td>{'objects': [{'value': 'insulator', 'polygon':...</td>\n",
       "    </tr>\n",
       "    <tr>\n",
       "      <th>1 (1000).jpg</th>\n",
       "      <td>{'objects': [{'value': 'conductor', 'line': [{...</td>\n",
       "    </tr>\n",
       "    <tr>\n",
       "      <th>1 (1001).jpg</th>\n",
       "      <td>{'objects': [{'value': 'insulator', 'polygon':...</td>\n",
       "    </tr>\n",
       "  </tbody>\n",
       "</table>\n",
       "</div>"
      ],
      "text/plain": [
       "                                                          label\n",
       "image                                                          \n",
       "1 (1).jpg     {'objects': [{'value': 'insulator', 'polygon':...\n",
       "1 (10).jpg    {'objects': [{'value': 'other_wire', 'line': [...\n",
       "1 (100).jpg   {'objects': [{'value': 'insulator', 'polygon':...\n",
       "1 (1000).jpg  {'objects': [{'value': 'conductor', 'line': [{...\n",
       "1 (1001).jpg  {'objects': [{'value': 'insulator', 'polygon':..."
      ]
     },
     "execution_count": 21,
     "metadata": {},
     "output_type": "execute_result"
    }
   ],
   "source": [
    "#prepare annotation dataframe\n",
    "annotations.columns = ['label', 'image']\n",
    "annotations['image'] = annotations['image'].str.lower()\n",
    "annotations.set_index(['image'], inplace=True)\n",
    "annotations.head()"
   ]
  },
  {
   "attachments": {},
   "cell_type": "markdown",
   "id": "c32e8c40",
   "metadata": {},
   "source": [
    "## Read Images"
   ]
  },
  {
   "cell_type": "code",
   "execution_count": 28,
   "id": "9ea9de4f",
   "metadata": {},
   "outputs": [],
   "source": [
    "data_path = root_path + '\\\\data\\\\raw\\\\train\\\\'\n",
    "image_path= data_path + '\\\\images\\\\'\n",
    "label_path = data_path + '\\\\labels\\\\'"
   ]
  },
  {
   "cell_type": "code",
   "execution_count": 29,
   "id": "42f3f0a6",
   "metadata": {},
   "outputs": [],
   "source": [
    "if not os.path.exists(label_path):\n",
    "    os.mkdir(label_path)"
   ]
  },
  {
   "cell_type": "code",
   "execution_count": 30,
   "id": "bc2eba1e",
   "metadata": {},
   "outputs": [],
   "source": [
    "def get_files_with_extension(folder, extension):\n",
    "    \n",
    "    '''a function that takes a folder path and a file extension as inputs, \n",
    "    and returns a list of all files in the folder with the specified extension,\n",
    "    case-insensitive. It can be used for quickly obtaining a list of files\n",
    "    with a specific file type from a directory'''\n",
    "    \n",
    "    # specify the desired file extension\n",
    "    extension = extension.lower()\n",
    "\n",
    "    # get a list of all files in the folder\n",
    "    files = os.listdir(folder)\n",
    "    \n",
    "    # filter out only the files with the desired extension\n",
    "    files_with_extention = [f for f in files if f.lower().endswith(extension)]\n",
    "\n",
    "    # print the list of desired files\n",
    "    return files_with_extention"
   ]
  },
  {
   "cell_type": "code",
   "execution_count": 31,
   "id": "f4c32121",
   "metadata": {},
   "outputs": [
    {
     "data": {
      "text/plain": [
       "['1 (1).JPG',\n",
       " '1 (10).JPG',\n",
       " '1 (100).JPG',\n",
       " '1 (1000).JPG',\n",
       " '1 (1001).JPG',\n",
       " '1 (1002).JPG',\n",
       " '1 (1003).JPG',\n",
       " '1 (1004).JPG',\n",
       " '1 (1005).JPG',\n",
       " '1 (1006).JPG',\n",
       " '1 (1007).JPG',\n",
       " '1 (1008).JPG',\n",
       " '1 (1009).JPG']"
      ]
     },
     "execution_count": 31,
     "metadata": {},
     "output_type": "execute_result"
    }
   ],
   "source": [
    "all_images = get_files_with_extension(image_path, 'jpg')\n",
    "all_images"
   ]
  },
  {
   "attachments": {},
   "cell_type": "markdown",
   "id": "1119e28e",
   "metadata": {},
   "source": [
    "## Preprocess labels"
   ]
  },
  {
   "cell_type": "code",
   "execution_count": 32,
   "id": "ec2602c5",
   "metadata": {},
   "outputs": [],
   "source": [
    "# polygon = Polygon([(0, 0), (1, 1), (1, 0)])\n",
    "def polygon_to_bbox(polygon_cords):\n",
    "    '''\n",
    "    Args: List of Polygon_cords\n",
    "    '''\n",
    "    polygon = Polygon(polygon_cords)\n",
    "    return polygon.bounds"
   ]
  },
  {
   "cell_type": "code",
   "execution_count": 33,
   "id": "57e93bf2",
   "metadata": {},
   "outputs": [
    {
     "data": {
      "text/plain": [
       "Index(['1 (1).jpg', '1 (10).jpg', '1 (100).jpg', '1 (1000).jpg',\n",
       "       '1 (1001).jpg', '1 (1002).jpg', '1 (1003).jpg', '1 (1004).jpg',\n",
       "       '1 (1005).jpg', '1 (1006).jpg',\n",
       "       ...\n",
       "       '9 (990).jpg', '9 (991).jpg', '9 (992).jpg', '9 (993).jpg',\n",
       "       '9 (994).jpg', '9 (995).jpg', '9 (996).jpg', '9 (997).jpg',\n",
       "       '9 (998).jpg', '9 (999).jpg'],\n",
       "      dtype='object', name='image', length=29620)"
      ]
     },
     "metadata": {},
     "output_type": "display_data"
    }
   ],
   "source": [
    "display(annotation.index)"
   ]
  },
  {
   "cell_type": "code",
   "execution_count": 34,
   "id": "dbab0407",
   "metadata": {
    "scrolled": false
   },
   "outputs": [
    {
     "name": "stdout",
     "output_type": "stream",
     "text": [
      "Processing ...\n",
      "1 (1).JPG ...\n",
      "1 (10).JPG ...\n",
      "1 (100).JPG ...\n",
      "1 (1000).JPG ...\n",
      "1 (1001).JPG ...\n",
      "1 (1002).JPG ...\n",
      "1 (1003).JPG ...\n",
      "1 (1004).JPG ...\n",
      "1 (1005).JPG ...\n",
      "1 (1006).JPG ...\n",
      "1 (1007).JPG ...\n",
      "1 (1008).JPG ...\n",
      "1 (1009).JPG ...\n"
     ]
    }
   ],
   "source": [
    "print('Processing ...')\n",
    "\n",
    "for img in all_images:\n",
    "    \n",
    "    ######################## IMAGE ########################\n",
    "    \n",
    "    print(img + ' ...')\n",
    "    \n",
    "    #Get the shape of the image for further calculations\n",
    "    imgpil = Image.open(image_path + '\\\\' + img)\n",
    "    wd,ht = imgpil.size\n",
    "\n",
    "    # get the row with index (case-insensitive)\n",
    "    filt = annotation.index.str.lower() == img.lower()\n",
    "    img_obj = annotation.loc[filt]\n",
    "\n",
    "    \n",
    "    ######################## LABELS ########################\n",
    "                \n",
    "    #Extract the label data\n",
    "    lbl = img_obj['label'].iloc[0]\n",
    "    \n",
    "    #Replace single quotation marks to double quotation marks\n",
    "    lbl = lbl.replace(\"\\'\", \"\\\"\")\n",
    "   \n",
    "    #Load into a dictionary using json\n",
    "    lbl = json.loads(lbl)\n",
    "    \n",
    "    ######################## LABEL FILE ########################\n",
    "    \n",
    "    #Create a txt annotation file name\n",
    "    label_file_name = img.split('.')[0] + '.txt'\n",
    "    \n",
    "    # Create a new txt file and put annotations into it (overwrite)\n",
    "    f1 = open(label_path + label_file_name,'w')\n",
    "    \n",
    "    ######################## LABEL GEOMETRY ########################\n",
    "    \n",
    "    #Iterate over each object/asset in the image and convert polygon into bounding boxes\n",
    "    for obj in lbl['objects']:\n",
    "    \n",
    "        polygon_coords_list=[]\n",
    "\n",
    "        #This ensure you only pick polygon annotations and automatically ignore polyline annotations\n",
    "        polygon_coords = obj.get('polygon')\n",
    "        \n",
    "        if polygon_coords is not None:\n",
    "            for pnt in polygon_coords:\n",
    "                polygon_coords_list.append(tuple(pnt.values()))\n",
    "            \n",
    "            #Typecast to int \n",
    "            polygon_coords_list = [(int(x), int(y)) for x,y in polygon_coords_list]\n",
    "            \n",
    "            #bounding box\n",
    "            bbox = polygon_to_bbox(polygon_coords_list)\n",
    "            minx, miny, maxx, maxy = bbox\n",
    "            \n",
    "            bbox_s = box(minx, miny, maxx, maxy)\n",
    "\n",
    "            object_annos_line = str(CLASS_DICT[obj['value']]) + ' ' \\\n",
    "                                    + str(bbox_s.centroid.x/wd) + ' ' \\\n",
    "                                    + str(bbox_s.centroid.y/ht) + ' ' \\\n",
    "                                    + str((maxx-minx)/wd) + ' ' \\\n",
    "                                    + str((maxy-miny)/ht) + \"\"'\\n'\n",
    "            \n",
    "            #write object annotation into file    \n",
    "            f1.write(object_annos_line)\n",
    "    \n",
    "    #Close the file\n",
    "    f1.close()"
   ]
  },
  {
   "cell_type": "code",
   "execution_count": null,
   "id": "e2a2da03",
   "metadata": {},
   "outputs": [],
   "source": []
  }
 ],
 "metadata": {
  "kernelspec": {
   "display_name": "Python 3 (ipykernel)",
   "language": "python",
   "name": "python3"
  },
  "language_info": {
   "codemirror_mode": {
    "name": "ipython",
    "version": 3
   },
   "file_extension": ".py",
   "mimetype": "text/x-python",
   "name": "python",
   "nbconvert_exporter": "python",
   "pygments_lexer": "ipython3",
   "version": "3.9.16"
  }
 },
 "nbformat": 4,
 "nbformat_minor": 5
}
