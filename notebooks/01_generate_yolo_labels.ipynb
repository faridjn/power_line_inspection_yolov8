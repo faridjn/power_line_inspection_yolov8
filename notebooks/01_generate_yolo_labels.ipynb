{
 "cells": [
  {
   "cell_type": "markdown",
   "id": "9c8c002e",
   "metadata": {},
   "source": [
    "# Generate YOLO labels"
   ]
  },
  {
   "cell_type": "markdown",
   "id": "a7af96c2",
   "metadata": {},
   "source": [
    "## Import necessary libraries"
   ]
  },
  {
   "cell_type": "code",
   "execution_count": 1,
   "id": "5e1ab341",
   "metadata": {},
   "outputs": [],
   "source": [
    "#fundamental\n",
    "import pandas as pd\n",
    "import numpy as np\n",
    "import json\n",
    "import os\n",
    "\n",
    "#labels geometry\n",
    "from shapely.geometry import box\n",
    "from PIL import Image\n",
    "from shapely.geometry import Polygon"
   ]
  },
  {
   "cell_type": "markdown",
   "id": "9e71482b",
   "metadata": {},
   "source": [
    "## Define label dictionary"
   ]
  },
  {
   "cell_type": "code",
   "execution_count": 2,
   "id": "c9c4694a",
   "metadata": {},
   "outputs": [],
   "source": [
    "CLASS_DICT = {'crossarm':0,\n",
    "              'cutouts':1,\n",
    "              'insulator':2,\n",
    "              'pole':3,\n",
    "              'transformers':4,\n",
    "              'background_structure':5}"
   ]
  },
  {
   "cell_type": "markdown",
   "id": "22257126",
   "metadata": {},
   "source": [
    "## Read annotations"
   ]
  },
  {
   "cell_type": "code",
   "execution_count": 3,
   "id": "b6db89f8",
   "metadata": {},
   "outputs": [
    {
     "name": "stdout",
     "output_type": "stream",
     "text": [
      "d:\\gitProjects\\Deep_Learning_for_Powerline_Monitoring_using_UAS_Imagery\n"
     ]
    }
   ],
   "source": [
    "# Define root directory\n",
    "root_path = os.path.normpath(os.getcwd() + os.sep + os.pardir)\n",
    "print(root_path)"
   ]
  },
  {
   "cell_type": "code",
   "execution_count": 4,
   "id": "211a1cc0",
   "metadata": {},
   "outputs": [],
   "source": [
    "#Read annotations\n",
    "annotation_path = root_path + '\\\\data\\\\raw\\\\annotation\\\\'\n",
    "annotation_csv = annotation_path + 'Overhead-Distribution-Labels.csv'\n",
    "annotation = pd.read_csv(annotation_csv)"
   ]
  },
  {
   "cell_type": "code",
   "execution_count": 5,
   "id": "dedf370c",
   "metadata": {},
   "outputs": [
    {
     "data": {
      "text/html": [
       "<div>\n",
       "<style scoped>\n",
       "    .dataframe tbody tr th:only-of-type {\n",
       "        vertical-align: middle;\n",
       "    }\n",
       "\n",
       "    .dataframe tbody tr th {\n",
       "        vertical-align: top;\n",
       "    }\n",
       "\n",
       "    .dataframe thead th {\n",
       "        text-align: right;\n",
       "    }\n",
       "</style>\n",
       "<table border=\"1\" class=\"dataframe\">\n",
       "  <thead>\n",
       "    <tr style=\"text-align: right;\">\n",
       "      <th></th>\n",
       "      <th>label</th>\n",
       "    </tr>\n",
       "    <tr>\n",
       "      <th>image</th>\n",
       "      <th></th>\n",
       "    </tr>\n",
       "  </thead>\n",
       "  <tbody>\n",
       "    <tr>\n",
       "      <th>1 (1).jpg</th>\n",
       "      <td>{'objects': [{'value': 'insulator', 'polygon':...</td>\n",
       "    </tr>\n",
       "    <tr>\n",
       "      <th>1 (10).jpg</th>\n",
       "      <td>{'objects': [{'value': 'other_wire', 'line': [...</td>\n",
       "    </tr>\n",
       "    <tr>\n",
       "      <th>1 (100).jpg</th>\n",
       "      <td>{'objects': [{'value': 'insulator', 'polygon':...</td>\n",
       "    </tr>\n",
       "    <tr>\n",
       "      <th>1 (1000).jpg</th>\n",
       "      <td>{'objects': [{'value': 'conductor', 'line': [{...</td>\n",
       "    </tr>\n",
       "    <tr>\n",
       "      <th>1 (1001).jpg</th>\n",
       "      <td>{'objects': [{'value': 'insulator', 'polygon':...</td>\n",
       "    </tr>\n",
       "  </tbody>\n",
       "</table>\n",
       "</div>"
      ],
      "text/plain": [
       "                                                          label\n",
       "image                                                          \n",
       "1 (1).jpg     {'objects': [{'value': 'insulator', 'polygon':...\n",
       "1 (10).jpg    {'objects': [{'value': 'other_wire', 'line': [...\n",
       "1 (100).jpg   {'objects': [{'value': 'insulator', 'polygon':...\n",
       "1 (1000).jpg  {'objects': [{'value': 'conductor', 'line': [{...\n",
       "1 (1001).jpg  {'objects': [{'value': 'insulator', 'polygon':..."
      ]
     },
     "execution_count": 5,
     "metadata": {},
     "output_type": "execute_result"
    }
   ],
   "source": [
    "#prepare annotation dataframe\n",
    "annotation.columns = ['label', 'image']\n",
    "annotation['image'] = annotation['image'].str.lower()\n",
    "annotation.set_index(['image'], inplace=True)\n",
    "annotation.head()"
   ]
  },
  {
   "cell_type": "markdown",
   "id": "c32e8c40",
   "metadata": {},
   "source": [
    "## Read Images"
   ]
  },
  {
   "cell_type": "code",
   "execution_count": 6,
   "id": "9ea9de4f",
   "metadata": {},
   "outputs": [],
   "source": [
    "image_path= root_path + '\\\\data\\\\raw\\\\train\\\\'\n",
    "label_path = image_path + '\\\\labels\\\\'"
   ]
  },
  {
   "cell_type": "code",
   "execution_count": 7,
   "id": "71769a3b",
   "metadata": {},
   "outputs": [
    {
     "data": {
      "text/plain": [
       "'d:\\\\gitProjects\\\\Deep_Learning_for_Powerline_Monitoring_using_UAS_Imagery\\\\data\\\\raw\\\\train\\\\\\\\labels\\\\'"
      ]
     },
     "execution_count": 7,
     "metadata": {},
     "output_type": "execute_result"
    }
   ],
   "source": [
    "label_path"
   ]
  },
  {
   "cell_type": "code",
   "execution_count": 8,
   "id": "42f3f0a6",
   "metadata": {},
   "outputs": [],
   "source": [
    "if not os.path.exists(label_path):\n",
    "    os.mkdir(label_path)"
   ]
  },
  {
   "cell_type": "code",
   "execution_count": 9,
   "id": "bc2eba1e",
   "metadata": {},
   "outputs": [],
   "source": [
    "def get_files_with_extension(folder, extension):\n",
    "    \n",
    "    '''a function that takes a folder path and a file extension as inputs, \n",
    "    and returns a list of all files in the folder with the specified extension,\n",
    "    case-insensitive. It can be used for quickly obtaining a list of files\n",
    "    with a specific file type from a directory'''\n",
    "    \n",
    "    # specify the desired file extension\n",
    "    extension = extension.lower()\n",
    "\n",
    "    # get a list of all files in the folder\n",
    "    files = os.listdir(folder)\n",
    "    \n",
    "    # filter out only the files with the desired extension\n",
    "    files_with_extention = [f for f in files if f.lower().endswith(extension)]\n",
    "\n",
    "    # print the list of desired files\n",
    "    return files_with_extention"
   ]
  },
  {
   "cell_type": "code",
   "execution_count": 10,
   "id": "f4c32121",
   "metadata": {},
   "outputs": [
    {
     "data": {
      "text/plain": [
       "['1 (1).JPG',\n",
       " '1 (10).JPG',\n",
       " '1 (100).JPG',\n",
       " '1 (1000).JPG',\n",
       " '1 (1001).JPG',\n",
       " '1 (1002).JPG',\n",
       " '1 (1003).JPG',\n",
       " '1 (1004).JPG',\n",
       " '1 (1005).JPG',\n",
       " '1 (1006).JPG',\n",
       " '1 (1007).JPG',\n",
       " '1 (1008).JPG',\n",
       " '1 (1009).JPG']"
      ]
     },
     "execution_count": 10,
     "metadata": {},
     "output_type": "execute_result"
    }
   ],
   "source": [
    "all_images = get_files_with_extension(image_path, 'jpg')\n",
    "all_images"
   ]
  },
  {
   "cell_type": "markdown",
   "id": "1119e28e",
   "metadata": {},
   "source": [
    "## Preprocess labels"
   ]
  },
  {
   "cell_type": "code",
   "execution_count": 11,
   "id": "ec2602c5",
   "metadata": {},
   "outputs": [],
   "source": [
    "# polygon = Polygon([(0, 0), (1, 1), (1, 0)])\n",
    "def polygon_to_bbox(polygon_cords):\n",
    "    '''\n",
    "    Args: List of Polygon_cords\n",
    "    '''\n",
    "    polygon = Polygon(polygon_cords)\n",
    "    return polygon.bounds"
   ]
  },
  {
   "cell_type": "code",
   "execution_count": 12,
   "id": "57e93bf2",
   "metadata": {},
   "outputs": [
    {
     "data": {
      "text/plain": [
       "Index(['1 (1).jpg', '1 (10).jpg', '1 (100).jpg', '1 (1000).jpg',\n",
       "       '1 (1001).jpg', '1 (1002).jpg', '1 (1003).jpg', '1 (1004).jpg',\n",
       "       '1 (1005).jpg', '1 (1006).jpg',\n",
       "       ...\n",
       "       '9 (990).jpg', '9 (991).jpg', '9 (992).jpg', '9 (993).jpg',\n",
       "       '9 (994).jpg', '9 (995).jpg', '9 (996).jpg', '9 (997).jpg',\n",
       "       '9 (998).jpg', '9 (999).jpg'],\n",
       "      dtype='object', name='image', length=29620)"
      ]
     },
     "metadata": {},
     "output_type": "display_data"
    }
   ],
   "source": [
    "display(annotation.index)"
   ]
  },
  {
   "cell_type": "code",
   "execution_count": 13,
   "id": "dbab0407",
   "metadata": {
    "scrolled": false
   },
   "outputs": [
    {
     "name": "stdout",
     "output_type": "stream",
     "text": [
      "Processing ...\n",
      "1 (1).JPG ...\n",
      "1 (10).JPG ...\n",
      "1 (100).JPG ...\n",
      "1 (1000).JPG ...\n",
      "1 (1001).JPG ...\n",
      "1 (1002).JPG ...\n",
      "1 (1003).JPG ...\n",
      "1 (1004).JPG ...\n",
      "1 (1005).JPG ...\n",
      "1 (1006).JPG ...\n",
      "1 (1007).JPG ...\n",
      "1 (1008).JPG ...\n",
      "1 (1009).JPG ...\n"
     ]
    }
   ],
   "source": [
    "print('Processing ...')\n",
    "\n",
    "for img in all_images:\n",
    "    \n",
    "    ######################## IMAGE ########################\n",
    "    \n",
    "    print(img + ' ...')\n",
    "    \n",
    "    #Get the shape of the image for further calculations\n",
    "    imgpil = Image.open(image_path + '\\\\' + img)\n",
    "    wd,ht = imgpil.size\n",
    "\n",
    "    # get the row with index (case-insensitive)\n",
    "    filt = annotation.index.str.lower() == img.lower()\n",
    "    img_obj = annotation.loc[filt]\n",
    "\n",
    "    \n",
    "    ######################## LABELS ########################\n",
    "                \n",
    "    #Extract the label data\n",
    "    lbl = img_obj['label'].iloc[0]\n",
    "    \n",
    "    #Replace single quotation marks to double quotation marks\n",
    "    lbl = lbl.replace(\"\\'\", \"\\\"\")\n",
    "   \n",
    "    #Load into a dictionary using json\n",
    "    lbl = json.loads(lbl)\n",
    "    \n",
    "    ######################## LABEL FILE ########################\n",
    "    \n",
    "    #Create a txt annotation file name\n",
    "    label_file_name = img.split('.')[0] + '.txt'\n",
    "    \n",
    "    # Create a new txt file and put annotations into it (overwrite)\n",
    "    f1 = open(label_path + label_file_name,'w')\n",
    "    \n",
    "    ######################## LABEL GEOMETRY ########################\n",
    "    \n",
    "    #Iterate over each object/asset in the image and convert polygon into bounding boxes\n",
    "    for obj in lbl['objects']:\n",
    "    \n",
    "        polygon_coords_list=[]\n",
    "\n",
    "        #This ensure you only pick polygon annotations and automatically ignore polyline annotations\n",
    "        polygon_coords = obj.get('polygon')\n",
    "        \n",
    "        if polygon_coords is not None:\n",
    "            for pnt in polygon_coords:\n",
    "                polygon_coords_list.append(tuple(pnt.values()))\n",
    "            \n",
    "            #Typecast to int \n",
    "            polygon_coords_list = [(int(x), int(y)) for x,y in polygon_coords_list]\n",
    "            \n",
    "            #bounding box\n",
    "            bbox = polygon_to_bbox(polygon_coords_list)\n",
    "            minx, miny, maxx, maxy = bbox\n",
    "            \n",
    "            bbox_s = box(minx, miny, maxx, maxy)\n",
    "\n",
    "            object_annos_line = str(CLASS_DICT[obj['value']]) + ' ' \\\n",
    "                                    + str(bbox_s.centroid.x/wd) + ' ' \\\n",
    "                                    + str(bbox_s.centroid.y/ht) + ' ' \\\n",
    "                                    + str((maxx-minx)/wd) + ' ' \\\n",
    "                                    + str((maxy-miny)/ht) + \"\"'\\n'\n",
    "            \n",
    "            #write object annotation into file    \n",
    "            f1.write(object_annos_line)\n",
    "    \n",
    "    #Close the file\n",
    "    f1.close()"
   ]
  },
  {
   "cell_type": "code",
   "execution_count": null,
   "id": "81fdd6fa",
   "metadata": {},
   "outputs": [],
   "source": []
  },
  {
   "cell_type": "code",
   "execution_count": null,
   "id": "ea22ee4b",
   "metadata": {},
   "outputs": [],
   "source": []
  }
 ],
 "metadata": {
  "kernelspec": {
   "display_name": "Python 3 (ipykernel)",
   "language": "python",
   "name": "python3"
  },
  "language_info": {
   "codemirror_mode": {
    "name": "ipython",
    "version": 3
   },
   "file_extension": ".py",
   "mimetype": "text/x-python",
   "name": "python",
   "nbconvert_exporter": "python",
   "pygments_lexer": "ipython3",
   "version": "3.9.16"
  }
 },
 "nbformat": 4,
 "nbformat_minor": 5
}
